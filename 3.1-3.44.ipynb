{
 "cells": [
  {
   "cell_type": "code",
   "execution_count": 1,
   "metadata": {},
   "outputs": [
    {
     "name": "stdout",
     "output_type": "stream",
     "text": [
      "Enter the temperature in degrees Fahrenheit: 90\n",
      "The temperature in degrees Celsius is 32.22222222222222\n"
     ]
    }
   ],
   "source": [
    "#Exercise 3.1\n",
    "fahr = eval(input('Enter the temperature in degrees Fahrenheit: '))\n",
    "cels = (fahr - 32) * 5 / 9\n",
    "print('The temperature in degrees Celsius is', cels)\n"
   ]
  },
  {
   "cell_type": "code",
   "execution_count": 5,
   "metadata": {},
   "outputs": [
    {
     "name": "stdout",
     "output_type": "stream",
     "text": [
      "One of the top 5 baseball players, ever!\n",
      "You're dead ...\n",
      "I can escape...\n"
     ]
    }
   ],
   "source": [
    "#Exercise 3.2\n",
    "age=52\n",
    "hits=11\n",
    "shield=0\n",
    "name=\"Aaron\"\n",
    "north=True\n",
    "south=False\n",
    "east=True\n",
    "west=False\n",
    "if age > 62:\n",
    "    print('You can get your pension benefits!')\n",
    "if name in ['Musial','Aaron','Williams','Gehrig','Ruth']:\n",
    "    print('One of the top 5 baseball players, ever!')\n",
    "if hits > 10 and shield == 0:\n",
    "    print('You\\'re dead ...')\n",
    "if north or south or east or west:\n",
    "    print(\"I can escape...\")"
   ]
  },
  {
   "cell_type": "code",
   "execution_count": 6,
   "metadata": {},
   "outputs": [
    {
     "name": "stdout",
     "output_type": "stream",
     "text": [
      "Definitely not a leap year.\n",
      "Better luck next time...\n"
     ]
    }
   ],
   "source": [
    "#Exercise 3.3\n",
    "year=2018\n",
    "ticket=203412321\n",
    "lottery=23213421\n",
    "if year % 4 == 0:\n",
    "    print('Could be a leap year.')\n",
    "else:\n",
    "    print('Definitely not a leap year.')\n",
    "if ticket == lottery:\n",
    "    print('You won!')\n",
    "else:\n",
    "    print('Better luck next time...')"
   ]
  },
  {
   "cell_type": "code",
   "execution_count": 7,
   "metadata": {},
   "outputs": [
    {
     "name": "stdout",
     "output_type": "stream",
     "text": [
      "Login: hani\n",
      "You are in!\n",
      "Done.\n"
     ]
    }
   ],
   "source": [
    "#Exercise 3.4\n",
    "users = ['joe', 'sue', 'hani', 'sophie']\n",
    "id = input('Login: ')\n",
    "if id in users:\n",
    "    print('You are in!')\n",
    "else:\n",
    "    print('User unknown.')\n",
    "print('Done.')"
   ]
  },
  {
   "cell_type": "code",
   "execution_count": 22,
   "metadata": {},
   "outputs": [
    {
     "name": "stdout",
     "output_type": "stream",
     "text": [
      "Gsafsafsadsa[\"abc\",\"dfg\",\"fooo\"]\n",
      "['abc', 'dfg', 'fooo']\n",
      "fooo\n"
     ]
    }
   ],
   "source": [
    "#Exercise 3.5\n",
    "wordList = eval(input('Enter The Word List'))\n",
    "print(wordList)\n",
    "for words in wordList:\n",
    "    if len(words)==4:\n",
    "        print(words)"
   ]
  },
  {
   "cell_type": "code",
   "execution_count": 18,
   "metadata": {},
   "outputs": [
    {
     "name": "stdout",
     "output_type": "stream",
     "text": [
      "0\n",
      "1\n",
      "2\n",
      "3\n",
      "4\n",
      "5\n",
      "6\n",
      "7\n",
      "8\n",
      "9\n",
      "0\n",
      "1\n"
     ]
    }
   ],
   "source": [
    "#Exercise 3.6\n",
    "for i in range(10):\n",
    "    print(i)\n",
    "for i in range(2):\n",
    "    print(i)"
   ]
  },
  {
   "cell_type": "code",
   "execution_count": 14,
   "metadata": {},
   "outputs": [
    {
     "name": "stdout",
     "output_type": "stream",
     "text": [
      "(a)\n",
      "3 4 5 6 7 8 9 10 11 12 \n",
      "(b)\n",
      "0 2 4 6 8 \n",
      "(c)\n",
      "0 3 6 9 12 15 18 21 \n",
      "(d)\n",
      "3 8 "
     ]
    }
   ],
   "source": [
    "#PF Assignment 3.7\n",
    "#(a)\n",
    "print('(a)')\n",
    "\n",
    "for num in range(3,13):\n",
    "    print(num,end=\" \")\n",
    "    \n",
    "print()\n",
    "\n",
    "#(b)\n",
    "print('(b)')\n",
    "for num in range(0,9,2):\n",
    "    print(num,end=\" \")\n",
    "\n",
    "print()\n",
    "\n",
    "#(c)\n",
    "print('(c)')\n",
    "for num in range(0,24,3):\n",
    "    print(num,end=\" \")\n",
    "print()\n",
    "\n",
    "#(d)\n",
    "print('(d)')\n",
    "for num in range(3,12,5):\n",
    "    print(num,end=\" \")"
   ]
  },
  {
   "cell_type": "code",
   "execution_count": 15,
   "metadata": {},
   "outputs": [
    {
     "data": {
      "text/plain": [
       "502.6548245743669"
      ]
     },
     "execution_count": 15,
     "metadata": {},
     "output_type": "execute_result"
    }
   ],
   "source": [
    "import math\n",
    "def perimeter(radius):\n",
    "    return 2 * math.pi * radius\n",
    "perimeter(80)"
   ]
  },
  {
   "cell_type": "code",
   "execution_count": 16,
   "metadata": {},
   "outputs": [
    {
     "data": {
      "text/plain": [
       "5.0"
      ]
     },
     "execution_count": 16,
     "metadata": {},
     "output_type": "execute_result"
    }
   ],
   "source": [
    "#Exercise 3.9\n",
    "def average(x,y):\n",
    "    return (x+y)/2\n",
    "average(5,5)"
   ]
  },
  {
   "cell_type": "code",
   "execution_count": 21,
   "metadata": {},
   "outputs": [
    {
     "data": {
      "text/plain": [
       "True"
      ]
     },
     "execution_count": 21,
     "metadata": {},
     "output_type": "execute_result"
    }
   ],
   "source": [
    "#Exercise 3.10\n",
    "def noVowel(s):\n",
    "    for c in s:\n",
    "        if c in 'aeiouAEIOU':\n",
    "            return False\n",
    "    return True\n",
    "noVowel(\"xyz\")"
   ]
  },
  {
   "cell_type": "code",
   "execution_count": 22,
   "metadata": {},
   "outputs": [
    {
     "data": {
      "text/plain": [
       "True"
      ]
     },
     "execution_count": 22,
     "metadata": {},
     "output_type": "execute_result"
    }
   ],
   "source": [
    "def allEven(numList):\n",
    "    for num in numList:\n",
    "        if num%2 != 0:\n",
    "            return False\n",
    "    return True\n",
    "allEven([2,4,8,10])"
   ]
  },
  {
   "cell_type": "code",
   "execution_count": 25,
   "metadata": {},
   "outputs": [
    {
     "name": "stdout",
     "output_type": "stream",
     "text": [
      "-4\n",
      "-9\n"
     ]
    }
   ],
   "source": [
    "def negatives(lst):\n",
    "    \n",
    "    for i in lst:\n",
    "        if i < 0:\n",
    "            print(i)\n",
    "negatives([4,-4,6,-9])"
   ]
  },
  {
   "cell_type": "code",
   "execution_count": 26,
   "metadata": {},
   "outputs": [],
   "source": [
    "#Exercise 3.13\n",
    "def docstringeg():\n",
    "    \"This is a Docstring\""
   ]
  },
  {
   "cell_type": "code",
   "execution_count": 30,
   "metadata": {},
   "outputs": [
    {
     "name": "stdout",
     "output_type": "stream",
     "text": [
      "<class 'int'>\n",
      "<class 'list'>\n"
     ]
    }
   ],
   "source": [
    "#Exercise 3.14\n",
    "a=[3,1,2]\n",
    "b=a\n",
    "a=4\n",
    "print(type(a))\n",
    "print(type(b))"
   ]
  },
  {
   "cell_type": "code",
   "execution_count": 31,
   "metadata": {},
   "outputs": [
    {
     "name": "stdout",
     "output_type": "stream",
     "text": [
      "adc\n",
      "Abc\n"
     ]
    }
   ],
   "source": [
    "#Exercise 3.15\n",
    "a=\"Abc\"\n",
    "b=\"adc\"\n",
    "a,b=b,a\n",
    "print(a)\n",
    "print(b)"
   ]
  },
  {
   "cell_type": "code",
   "execution_count": 35,
   "metadata": {},
   "outputs": [],
   "source": [
    "#Exercise 3.16\n",
    "def swapFL(lst):\n",
    "    lst[0], lst[-1] = lst[-1], lst[0]\n",
    "swapFL([2,3])"
   ]
  },
  {
   "cell_type": "code",
   "execution_count": 48,
   "metadata": {},
   "outputs": [
    {
     "name": "stdout",
     "output_type": "stream",
     "text": [
      "7\n",
      "hellow\n",
      "hello world!\n",
      "2\n"
     ]
    }
   ],
   "source": [
    "#Exercise 3.17\n",
    "hello=\"hellow\"\n",
    "print(eval('2*3+1'))\n",
    "print(eval(\"hello\"))\n",
    "print(eval(\"'hello' + ' ' + 'world!'\"))\n",
    "print(eval(\"'ASCII'.count('I')\"))\n",
    "#eval('x=5'),x=5 is an statement , not an expression , we should use exec for this"
   ]
  },
  {
   "cell_type": "code",
   "execution_count": 49,
   "metadata": {},
   "outputs": [
    {
     "name": "stdout",
     "output_type": "stream",
     "text": [
      "ok\n"
     ]
    }
   ],
   "source": [
    "#Exercise 3.18\n",
    "a, b, c = 3, 4, 5\n",
    "if(a<b):\n",
    "    print(\"ok\")\n",
    "if(c<b):\n",
    "    print(\"ok\")\n",
    "if((a+b)==c):\n",
    "    print(\"ok\")\n",
    "if((a+b)**2==c):\n",
    "    print(\"ok\")\n",
    "    "
   ]
  },
  {
   "cell_type": "code",
   "execution_count": 50,
   "metadata": {},
   "outputs": [
    {
     "name": "stdout",
     "output_type": "stream",
     "text": [
      "ok\n",
      "not okey\n",
      "not okey\n",
      "not okey\n"
     ]
    }
   ],
   "source": [
    "#Exercise 3.19\n",
    "a, b, c = 3, 4, 5\n",
    "if(a<b):\n",
    "    print(\"ok\")\n",
    "else:\n",
    "    print(\"not okey\")\n",
    "if(c<b):\n",
    "    print(\"ok\")\n",
    "else:\n",
    "    print(\"not okey\")\n",
    "if((a+b)==c):\n",
    "    print(\"ok\")\n",
    "else:\n",
    "    print(\"not okey\")\n",
    "if((a+b)**2==c):\n",
    "    print(\"ok\")\n",
    "else:\n",
    "    print(\"not okey\")"
   ]
  },
  {
   "cell_type": "code",
   "execution_count": 52,
   "metadata": {},
   "outputs": [
    {
     "name": "stdout",
     "output_type": "stream",
     "text": [
      "jan\n",
      "Feb\n",
      "Mar\n"
     ]
    }
   ],
   "source": [
    "#Exercise 3.20\n",
    "lst=[\"january\",\"Febuary\",\"March\"]\n",
    "for i in lst:\n",
    "    print(i[:3:])\n",
    "    "
   ]
  },
  {
   "cell_type": "code",
   "execution_count": 60,
   "metadata": {},
   "outputs": [
    {
     "name": "stdout",
     "output_type": "stream",
     "text": [
      "2\n",
      "4\n",
      "6\n",
      "8\n"
     ]
    }
   ],
   "source": [
    "#Exercise 3.21\n",
    "lst=[2, 3, 4, 5, 6, 7, 8, 9]\n",
    "for i in lst:\n",
    "    if(i%2==0):\n",
    "        print(i)"
   ]
  },
  {
   "cell_type": "code",
   "execution_count": 61,
   "metadata": {},
   "outputs": [
    {
     "name": "stdout",
     "output_type": "stream",
     "text": [
      "4\n",
      "8\n"
     ]
    }
   ],
   "source": [
    "#Exercise 3.22\n",
    "lst=[2, 3, 4, 5, 6, 7, 8, 9]\n",
    "for i in lst:\n",
    "    if(i**2%8==0):\n",
    "        print(i)"
   ]
  },
  {
   "cell_type": "code",
   "execution_count": 73,
   "metadata": {},
   "outputs": [
    {
     "name": "stdout",
     "output_type": "stream",
     "text": [
      "0 1 \n",
      "\n",
      "0 \n",
      "\n",
      "3 4 5 6 \n",
      "\n",
      "1 \n",
      "\n",
      "0 3 \n",
      "\n",
      "5 9 13 17 21 "
     ]
    }
   ],
   "source": [
    "#Exercise 3.23\n",
    "\n",
    "for i in range(2):\n",
    "    print(i,end=\" \")\n",
    "print(\"\\n\")\n",
    "for i in range(1):\n",
    "    print(i,end=\" \")\n",
    "print(\"\\n\")\n",
    "for i in range(3,7):\n",
    "    print(i,end=\" \")\n",
    "print(\"\\n\")\n",
    "for i in [x for x in range(2) if x !=0]:\n",
    "    print(i,end=\" \")\n",
    "print(\"\\n\")\n",
    "for i in range(0,4,3):\n",
    "    print(i,end=\" \")\n",
    "print(\"\\n\")\n",
    "for i in range(5,22,4):\n",
    "    print(i,end=\" \")"
   ]
  },
  {
   "cell_type": "code",
   "execution_count": 23,
   "metadata": {},
   "outputs": [
    {
     "name": "stdout",
     "output_type": "stream",
     "text": [
      "input the list of word : [\"abc\",\"dfg\",\"fooo\"]\n",
      "abc\n",
      "dfg\n",
      "fooo\n"
     ]
    }
   ],
   "source": [
    "#Exercise 3.24\n",
    "wordList=eval(input(\"input the list of word : \"))\n",
    "for i in wordList:\n",
    "    if i != \"secret\":\n",
    "        print(i)"
   ]
  },
  {
   "cell_type": "code",
   "execution_count": 26,
   "metadata": {},
   "outputs": [
    {
     "name": "stdout",
     "output_type": "stream",
     "text": [
      "input the list of name['Ellie', 'Steve', 'Sam', 'Owen', 'Gavin']\n",
      "Ellie\n",
      "Sam\n",
      "Gavin\n"
     ]
    }
   ],
   "source": [
    "#Exercise 3.25\n",
    "wordList=eval(input(\"input the list of name\"))\n",
    "for i in wordList:\n",
    "    i.casefold()\n",
    "    if i[1] in \"abcdefghijklm\":\n",
    "        print(i)"
   ]
  },
  {
   "cell_type": "code",
   "execution_count": 27,
   "metadata": {},
   "outputs": [
    {
     "name": "stdout",
     "output_type": "stream",
     "text": [
      "input the list['Ellie', 'Steve', 'Sam', 'Owen', 'Gavin']\n",
      "The first element is Ellie\n",
      "The second element is Gavin\n"
     ]
    }
   ],
   "source": [
    "#Exercise 3.26\n",
    "wordList=eval(input(\"input the list\"))\n",
    "print(\"The first element is \"+wordList[0])\n",
    "print(\"The second element is \"+wordList[-1])"
   ]
  },
  {
   "cell_type": "code",
   "execution_count": 30,
   "metadata": {},
   "outputs": [
    {
     "name": "stdout",
     "output_type": "stream",
     "text": [
      "enter a positive integer n : 5\n",
      "0\n",
      "5\n",
      "10\n",
      "15\n"
     ]
    }
   ],
   "source": [
    "#Exercise 3.27\n",
    "n=eval(input(\"enter a positive integer n : \"))\n",
    "for i in range(0,4):\n",
    "    print(i*n)"
   ]
  },
  {
   "cell_type": "code",
   "execution_count": 33,
   "metadata": {},
   "outputs": [
    {
     "name": "stdout",
     "output_type": "stream",
     "text": [
      "enter a positive integer n : 3\n",
      "0\n",
      "1\n",
      "4\n"
     ]
    }
   ],
   "source": [
    "n=eval(input(\"enter a positive integer n : \"))\n",
    "for i in range(0,n):\n",
    "    print(i**2)"
   ]
  },
  {
   "cell_type": "code",
   "execution_count": 32,
   "metadata": {},
   "outputs": [
    {
     "name": "stdout",
     "output_type": "stream",
     "text": [
      "enter a positive integer n : 49\n",
      "1\n",
      "7\n",
      "49\n"
     ]
    }
   ],
   "source": [
    "#Exercise 3.29\n",
    "n=eval(input(\"enter a positive integer n : \"))\n",
    "for i in range(1,n+1):\n",
    "    if(n%i==0):\n",
    "        print(i)\n"
   ]
  },
  {
   "cell_type": "code",
   "execution_count": 1,
   "metadata": {},
   "outputs": [
    {
     "name": "stdout",
     "output_type": "stream",
     "text": [
      "input the first number4\n",
      "input the second number3.5\n",
      "input the third number3.5\n",
      "input the fourth number3\n"
     ]
    }
   ],
   "source": [
    "#Exercise 3.30\n",
    "x=eval(input(\"input the first number\"))\n",
    "y=eval(input(\"input the second number\"))\n",
    "z=eval(input(\"input the third number\"))\n",
    "a=eval(input(\"input the fourth number\"))\n",
    "if((x+y+z)/3==4):\n",
    "    print(\"Equal\")"
   ]
  },
  {
   "cell_type": "code",
   "execution_count": 2,
   "metadata": {},
   "outputs": [
    {
     "name": "stdout",
     "output_type": "stream",
     "text": [
      "input the x-cordinate5\n",
      "input the y-cordinate5\n",
      "It is in\n"
     ]
    }
   ],
   "source": [
    "#Exercise 3.31\n",
    "x=eval(input(\"input the x-cordinate\"))\n",
    "y=eval(input(\"input the y-cordinate\"))\n",
    "if(x<8 and y<8):\n",
    "    print(\"It is in\")"
   ]
  },
  {
   "cell_type": "code",
   "execution_count": 7,
   "metadata": {},
   "outputs": [
    {
     "name": "stdout",
     "output_type": "stream",
     "text": [
      "input the four integer12345\n",
      "1\n",
      "2\n",
      "3\n",
      "4\n",
      "5\n"
     ]
    }
   ],
   "source": [
    "#Exercise 3.32\n",
    "x=eval(input(\"input the four integer\"))\n",
    "lst=list(str(x))\n",
    "for i in lst:\n",
    "    print(i)"
   ]
  },
  {
   "cell_type": "code",
   "execution_count": 8,
   "metadata": {},
   "outputs": [
    {
     "name": "stdout",
     "output_type": "stream",
     "text": [
      "input three letter stringabc\n",
      "cba\n"
     ]
    }
   ],
   "source": [
    "#Exercise 3.33\n",
    "x=input(\"input three letter string\")\n",
    "print(x[::-1])"
   ]
  },
  {
   "cell_type": "code",
   "execution_count": 15,
   "metadata": {},
   "outputs": [
    {
     "data": {
      "text/plain": [
       "475.0"
      ]
     },
     "execution_count": 15,
     "metadata": {},
     "output_type": "execute_result"
    }
   ],
   "source": [
    "#Exercise 3.34\n",
    "sum = 0\n",
    "def pay(x,y):\n",
    "    if y < 40:\n",
    "        sum = x*y\n",
    "    else:\n",
    "        sum = x*40\n",
    "        sum += (x*1.5)*(y-40)\n",
    "       \n",
    "    return sum\n",
    "pay(10,35)\n",
    "pay(10,45)"
   ]
  },
  {
   "cell_type": "code",
   "execution_count": 17,
   "metadata": {},
   "outputs": [
    {
     "name": "stdout",
     "output_type": "stream",
     "text": [
      "the probablity of head is  0.5\n",
      "the probablity of head is  0.25\n"
     ]
    }
   ],
   "source": [
    "#Exercise 3.35\n",
    "def prob(n):\n",
    "    print(\"the probablity of head is \" , 2**-n)\n",
    "prob(1)\n",
    "prob(2)"
   ]
  },
  {
   "cell_type": "code",
   "execution_count": 23,
   "metadata": {},
   "outputs": [
    {
     "name": "stdout",
     "output_type": "stream",
     "text": [
      "Please Enter any Number: 356\n",
      "6\n",
      "65\n",
      "653\n",
      "\n",
      " Reverse of entered number is = 653\n"
     ]
    }
   ],
   "source": [
    "#Exercise 3.36\n",
    "def reverse_int():\n",
    "    Number = int(input(\"Please Enter any Number: \"))\n",
    "    Reverse = 0\n",
    "    while(Number > 0):\n",
    "        Reminder = Number %10\n",
    "        Reverse = (Reverse *10) + Reminder\n",
    "        Number = Number //10\n",
    "        print(Reverse)\n",
    "    print(\"\\n Reverse of entered number is = %d\" %Reverse)\n",
    "\n",
    "reverse_int()"
   ]
  },
  {
   "cell_type": "code",
   "execution_count": 29,
   "metadata": {},
   "outputs": [
    {
     "name": "stdout",
     "output_type": "stream",
     "text": [
      "The Slope is :  1.0  The distance is :  1.4142135623730951\n"
     ]
    }
   ],
   "source": [
    "#Exercise 3.37\n",
    "import math\n",
    "def points(x1,y1,x2,y2):\n",
    "    slope=(y2-y1)/(x2-x1)\n",
    "    distance=math.sqrt((x2-x1)**2+(y2-y1)**2)\n",
    "    print(\"The Slope is : \",slope,\" The distance is : \",distance)\n",
    "points(0,0,1,1)"
   ]
  },
  {
   "cell_type": "code",
   "execution_count": 31,
   "metadata": {},
   "outputs": [
    {
     "name": "stdout",
     "output_type": "stream",
     "text": [
      "give wordTuesday\n",
      "Tu\n"
     ]
    }
   ],
   "source": [
    "#Exercise 3.38\n",
    "x=input(\"give word\")\n",
    "print(x[:2:])"
   ]
  },
  {
   "cell_type": "code",
   "execution_count": 33,
   "metadata": {},
   "outputs": [
    {
     "name": "stdout",
     "output_type": "stream",
     "text": [
      "True\n",
      "False\n"
     ]
    }
   ],
   "source": [
    "#Exercise 3.39\n",
    "def collision(x1,y1,r1,x2,y2,r2):\n",
    "    if(((x2-x1)**2+(y2-y1)**2)<(r1+r2)**2):\n",
    "        print(True)\n",
    "    else:\n",
    "        print(False)\n",
    "collision(0,0,3,0,5,3)\n",
    "collision(0,0,1.4,2,2,1.4)"
   ]
  },
  {
   "cell_type": "code",
   "execution_count": 37,
   "metadata": {},
   "outputs": [
    {
     "name": "stdout",
     "output_type": "stream",
     "text": [
      "Eleanor\n",
      "Sammy\n",
      "Gavin\n"
     ]
    }
   ],
   "source": [
    "#Exercise 3.40\n",
    "def partition(lst):\n",
    "    for x in lst:\n",
    "        x.casefold()\n",
    "        if x[1] in \"abcdefghijklm\":\n",
    "            print(x)\n",
    "partition(['Eleanor', 'Evelyn', 'Sammy', 'Owen', 'Gavin'])"
   ]
  },
  {
   "cell_type": "code",
   "execution_count": 39,
   "metadata": {},
   "outputs": [
    {
     "name": "stdout",
     "output_type": "stream",
     "text": [
      "Camus A\n"
     ]
    }
   ],
   "source": [
    "#Exercise 3.41\n",
    "def Lastf(str1,str2):\n",
    "    print(str2,str1[0])\n",
    "Lastf('Albert','Camus')"
   ]
  },
  {
   "cell_type": "code",
   "execution_count": 64,
   "metadata": {},
   "outputs": [
    {
     "name": "stdout",
     "output_type": "stream",
     "text": [
      "90.0\n",
      "60.0\n",
      "87.0\n",
      "11.0\n"
     ]
    }
   ],
   "source": [
    "#Exercise 3.42\n",
    "\n",
    "def avg(multiList):\n",
    "    sum=0\n",
    "    for x in multiList:\n",
    "        tmpLst=x\n",
    "        for i in tmpLst:\n",
    "            sum+=i        \n",
    "        print(sum/len(tmpLst))\n",
    "        sum =0\n",
    "\n",
    "multiList=[[95, 92, 86, 87], [66, 54], [89, 72, 100], [33, 0, 0]]\n",
    "avg(multiList)"
   ]
  },
  {
   "cell_type": "code",
   "execution_count": 70,
   "metadata": {},
   "outputs": [
    {
     "name": "stdout",
     "output_type": "stream",
     "text": [
      "True\n",
      "False\n"
     ]
    }
   ],
   "source": [
    "#Exercise 3.43\n",
    "def hit(x1,y1,r,x2,y2):\n",
    "    if(((x2-x1)**2+(y2-y1)**2)<=r**2):\n",
    "       print(True)\n",
    "    else:\n",
    "       print(False)\n",
    "hit(0,0,3,3,0)\n",
    "hit(0,0,3,4,0)"
   ]
  },
  {
   "cell_type": "code",
   "execution_count": 71,
   "metadata": {},
   "outputs": [
    {
     "data": {
      "text/plain": [
       "1.0208700000000002"
      ]
     },
     "execution_count": 71,
     "metadata": {},
     "output_type": "execute_result"
    }
   ],
   "source": [
    "#Exercise 3.44\n",
    "def distance(time):\n",
    "    #in m/s\n",
    "    speedOfSound=340.29\n",
    "    #in k/s\n",
    "    speedOfSound=(340.29)/1000\n",
    "    #distance\n",
    "    return time*speedOfSound\n",
    "distance(3)"
   ]
  },
  {
   "cell_type": "code",
   "execution_count": null,
   "metadata": {},
   "outputs": [],
   "source": []
  }
 ],
 "metadata": {
  "kernelspec": {
   "display_name": "Python 3",
   "language": "python",
   "name": "python3"
  },
  "language_info": {
   "codemirror_mode": {
    "name": "ipython",
    "version": 3
   },
   "file_extension": ".py",
   "mimetype": "text/x-python",
   "name": "python",
   "nbconvert_exporter": "python",
   "pygments_lexer": "ipython3",
   "version": "3.7.0"
  }
 },
 "nbformat": 4,
 "nbformat_minor": 2
}
